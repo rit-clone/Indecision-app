{
  "nbformat": 4,
  "nbformat_minor": 0,
  "metadata": {
    "colab": {
      "provenance": [],
      "authorship_tag": "ABX9TyNSY/tttztI5vHS9AcvkC+s",
      "include_colab_link": true
    },
    "kernelspec": {
      "name": "python3",
      "display_name": "Python 3"
    },
    "language_info": {
      "name": "python"
    }
  },
  "cells": [
    {
      "cell_type": "markdown",
      "metadata": {
        "id": "view-in-github",
        "colab_type": "text"
      },
      "source": [
        "<a href=\"https://colab.research.google.com/github/rit-clone/Indecision-app/blob/master/Attention.ipynb\" target=\"_parent\"><img src=\"https://colab.research.google.com/assets/colab-badge.svg\" alt=\"Open In Colab\"/></a>"
      ]
    },
    {
      "cell_type": "code",
      "source": [
        "import numpy as np\n",
        "import torch"
      ],
      "metadata": {
        "id": "AwVQ06ugVN7E"
      },
      "execution_count": 1,
      "outputs": []
    },
    {
      "cell_type": "code",
      "execution_count": 2,
      "metadata": {
        "colab": {
          "base_uri": "https://localhost:8080/"
        },
        "id": "D4GThF0zSvIP",
        "outputId": "920bb133-e1f3-4a5e-87b5-de7583982a07"
      },
      "outputs": [
        {
          "output_type": "execute_result",
          "data": {
            "text/plain": [
              "{'Life': 0, 'dessert': 1, 'eat': 2, 'first': 3, 'is': 4, 'short,': 5}"
            ]
          },
          "metadata": {},
          "execution_count": 2
        }
      ],
      "source": [
        "sentence = \" Life is short, eat dessert first\"\n",
        "tokens = sentence.split()\n",
        "sorted_tokens = sorted(tokens)\n",
        "positions = {token:idx for idx, token in enumerate(sorted_tokens)}\n",
        "positions"
      ]
    },
    {
      "cell_type": "code",
      "source": [
        "result = [positions[token] for token in tokens]\n",
        "result = torch.tensor(result)\n",
        "result"
      ],
      "metadata": {
        "colab": {
          "base_uri": "https://localhost:8080/"
        },
        "id": "o1FrEyZKUufU",
        "outputId": "2ee351f0-ea61-4455-9326-120fb4be84db"
      },
      "execution_count": 3,
      "outputs": [
        {
          "output_type": "execute_result",
          "data": {
            "text/plain": [
              "tensor([0, 4, 5, 2, 1, 3])"
            ]
          },
          "metadata": {},
          "execution_count": 3
        }
      ]
    },
    {
      "cell_type": "code",
      "source": [
        "vocab_size = 50_000\n",
        "torch.manual_seed(123)\n",
        "embed= torch.nn.Embedding(vocab_size, 3)\n",
        "embedded_sentence = embed(result).detach()\n",
        "embedded_sentence"
      ],
      "metadata": {
        "colab": {
          "base_uri": "https://localhost:8080/"
        },
        "id": "1g7nqxf3IjG0",
        "outputId": "14a8bffb-d59f-4c5b-d4ee-d03dda71b7f3"
      },
      "execution_count": 6,
      "outputs": [
        {
          "output_type": "execute_result",
          "data": {
            "text/plain": [
              "array([[ 0.3373702 , -0.17777722, -0.3035276 ],\n",
              "       [ 0.17937961,  1.895148  ,  0.49544638],\n",
              "       [ 0.26919857, -0.07702024, -1.0204719 ],\n",
              "       [-0.21963762, -0.37916982,  0.76710707],\n",
              "       [-0.58801186,  0.3486052 ,  0.66034096],\n",
              "       [-1.192502  ,  0.6983519 , -1.4097229 ]], dtype=float32)"
            ]
          },
          "metadata": {},
          "execution_count": 6
        }
      ]
    },
    {
      "cell_type": "code",
      "source": [
        "torch_manual_seed = 123\n",
        "d = embedded_sentence.shape[1]\n",
        "d_q, d_k, d_v = 2, 2, 4\n",
        "\n",
        "W_query = torch.nn.Parameter(torch.rand(d, d_q))\n",
        "W_key = torch.nn.Parameter(torch.rand(d, d_k))\n",
        "W_value = torch.nn.Parameter(torch.rand(d, d_v))\n",
        "\n",
        "W_query.shape, W_key.shape, W_value.shape\n"
      ],
      "metadata": {
        "colab": {
          "base_uri": "https://localhost:8080/"
        },
        "id": "oVYdwo4KKcAX",
        "outputId": "97a27bb8-71fd-4eee-98b9-008a839b785b"
      },
      "execution_count": 19,
      "outputs": [
        {
          "output_type": "execute_result",
          "data": {
            "text/plain": [
              "(torch.Size([3, 2]), torch.Size([3, 2]), torch.Size([3, 4]))"
            ]
          },
          "metadata": {},
          "execution_count": 19
        }
      ]
    },
    {
      "cell_type": "code",
      "source": [
        "x_2 = embedded_sentence[1]\n",
        "x_2 = torch.from_numpy(x_2)\n",
        "query_2 = x_2 @ W_query\n",
        "key_2 = x_2 @ W_key\n",
        "value_2 = x_2 @ W_value\n",
        "print(query_2.shape)\n",
        "print(key_2.shape)\n",
        "print(value_2.shape)"
      ],
      "metadata": {
        "colab": {
          "base_uri": "https://localhost:8080/"
        },
        "id": "Nsudvt1SNcGF",
        "outputId": "374856ea-28b1-4120-89b2-3fdcb60488c1"
      },
      "execution_count": 11,
      "outputs": [
        {
          "output_type": "stream",
          "name": "stdout",
          "text": [
            "torch.Size([2])\n",
            "torch.Size([2])\n",
            "torch.Size([4])\n"
          ]
        }
      ]
    },
    {
      "cell_type": "code",
      "source": [
        "embedded_sentence = torch.tensor(embedded_sentence)\n",
        "keys = embedded_sentence @ W_key\n",
        "values = embedded_sentence @ W_value\n",
        "print(\"keys.shape:\", keys.shape)\n",
        "print(\"values.shape:\", values.shape)\n"
      ],
      "metadata": {
        "colab": {
          "base_uri": "https://localhost:8080/"
        },
        "id": "6Ncuk8bvNcv9",
        "outputId": "eb18b6fd-178b-4c27-bcf4-09b9a9974237"
      },
      "execution_count": 20,
      "outputs": [
        {
          "output_type": "stream",
          "name": "stdout",
          "text": [
            "torch.Size([6, 3])\n",
            "keys.shape: torch.Size([6, 2])\n",
            "values.shape: torch.Size([6, 4])\n"
          ]
        },
        {
          "output_type": "stream",
          "name": "stderr",
          "text": [
            "<ipython-input-20-68f51eae88b3>:1: UserWarning: To copy construct from a tensor, it is recommended to use sourceTensor.clone().detach() or sourceTensor.clone().detach().requires_grad_(True), rather than torch.tensor(sourceTensor).\n",
            "  embedded_sentence = torch.tensor(embedded_sentence)\n"
          ]
        }
      ]
    },
    {
      "cell_type": "code",
      "source": [
        "omega_2 = query_2 @ keys.T\n",
        "print(omega_2)"
      ],
      "metadata": {
        "colab": {
          "base_uri": "https://localhost:8080/"
        },
        "id": "RwHcUK4QOKLp",
        "outputId": "f0412b5a-2e04-49ee-932e-d7b07a835aff"
      },
      "execution_count": 15,
      "outputs": [
        {
          "output_type": "stream",
          "name": "stdout",
          "text": [
            "tensor([-0.0185,  3.2059, -0.1406, -0.5765,  0.1290, -0.5444],\n",
            "       grad_fn=<SqueezeBackward4>)\n"
          ]
        }
      ]
    },
    {
      "cell_type": "code",
      "source": [
        "import torch.nn.functional as F\n",
        "attention_weights_2 = F.softmax(omega_2 / d_k**0.5, dim=0)\n",
        "print(attention_weights_2)"
      ],
      "metadata": {
        "colab": {
          "base_uri": "https://localhost:8080/"
        },
        "id": "8PlJWCfROi_T",
        "outputId": "78ce2eae-6176-4d0c-f752-354220c1a372"
      },
      "execution_count": 17,
      "outputs": [
        {
          "output_type": "stream",
          "name": "stdout",
          "text": [
            "tensor([0.0706, 0.6901, 0.0647, 0.0476, 0.0783, 0.0487],\n",
            "       grad_fn=<SoftmaxBackward0>)\n"
          ]
        }
      ]
    },
    {
      "cell_type": "code",
      "source": [
        "context_vector_2 = attention_weights_2 @ values\n",
        "print(context_vector_2.shape)\n",
        "print(context_vector_2)"
      ],
      "metadata": {
        "colab": {
          "base_uri": "https://localhost:8080/"
        },
        "id": "UzbtyGB_OmJ6",
        "outputId": "8dc9f98f-4628-4c84-a21f-529be469eb2d"
      },
      "execution_count": 18,
      "outputs": [
        {
          "output_type": "stream",
          "name": "stdout",
          "text": [
            "torch.Size([4])\n",
            "tensor([1.0684, 0.7869, 0.9349, 1.4151], grad_fn=<SqueezeBackward4>)\n"
          ]
        }
      ]
    },
    {
      "cell_type": "code",
      "source": [
        "import torch.nn as nn\n",
        "\n",
        "class SelfAttention(nn.Module):\n",
        "    def __init__(self, d_in, d_out_kq, d_out_v):\n",
        "        super().__init__()\n",
        "        self.d_in = d_in\n",
        "        self.d_out_kq = d_out_kq\n",
        "        self.d_out_v = d_out_v\n",
        "        self.W_query = nn.Parameter(torch.rand(d_in, d_out_kq))\n",
        "        self.W_key = nn.Parameter(torch.rand(d_in, d_out_kq))\n",
        "        self.W_value = nn.Parameter(torch.rand(d_in, d_out_v))\n",
        "\n",
        "    def forward(self, x):\n",
        "        # x = torch.from_numpy(x)\n",
        "        query = x @ self.W_query\n",
        "        key = x @ self.W_key\n",
        "        value = x @ self.W_value\n",
        "        attention_weights = F.softmax(query @ key.T / self.d_out_kq**0.5, dim=-1)\n",
        "        context_vector = attention_weights @ value\n",
        "        return context_vector\n",
        "\n",
        "    def __repr__(self):\n",
        "        return f\"SelfAttention(d_in={self.d_in}, d_out_kq={self.d_out_kq}, d_out_v={self.d_out_v})\"\n",
        "\n",
        "\n",
        "torch.manual_seed(123)\n",
        "d = embedded_sentence.shape[1]\n",
        "d_q, d_k, d_v = 2, 2, 4\n",
        "sa = SelfAttention(d, d_q, d_v)\n",
        "print(sa(embedded_sentence))\n"
      ],
      "metadata": {
        "colab": {
          "base_uri": "https://localhost:8080/"
        },
        "id": "m-l54gW5Oq91",
        "outputId": "207db82f-620a-4c01-82bb-00ee12763ce8"
      },
      "execution_count": 27,
      "outputs": [
        {
          "output_type": "stream",
          "name": "stdout",
          "text": [
            "tensor([[-0.1564,  0.1028, -0.0763, -0.0764],\n",
            "        [ 0.5313,  1.3607,  0.7891,  1.3110],\n",
            "        [-0.3542, -0.1234, -0.2626, -0.3706],\n",
            "        [ 0.0071,  0.3345,  0.0969,  0.1998],\n",
            "        [ 0.1008,  0.4780,  0.2021,  0.3674],\n",
            "        [-0.5296, -0.2799, -0.4107, -0.6006]], grad_fn=<MmBackward0>)\n"
          ]
        }
      ]
    },
    {
      "cell_type": "markdown",
      "source": [
        "# Mutihead Attention"
      ],
      "metadata": {
        "id": "O7Ov5rH1ZE6j"
      }
    },
    {
      "cell_type": "code",
      "source": [
        "class MultiHeadAttention(nn.Module):\n",
        "    def __init__(self, d_in, d_out_kq, d_out_v, num_heads):\n",
        "        super().__init__()\n",
        "        self.heads = nn.ModuleList([SelfAttention(d_in, d_out_kq, d_out_v) for _ in range(num_heads)])\n",
        "\n",
        "    def forward(self, x):\n",
        "        return torch.cat([head(x) for head in self.heads], dim=-1)"
      ],
      "metadata": {
        "id": "MziB5ZnQZJtV"
      },
      "execution_count": 28,
      "outputs": []
    },
    {
      "cell_type": "code",
      "source": [
        "torch.manual_seed(123)\n",
        "d, d_out_kq, d_out_v = 3, 2, 1\n",
        "sa = SelfAttention(d, d_out_kq, d_out_v)\n",
        "print(sa(embedded_sentence))"
      ],
      "metadata": {
        "colab": {
          "base_uri": "https://localhost:8080/"
        },
        "id": "8emFHqrdchKz",
        "outputId": "914b34a0-fda7-4c18-b1fa-759f946b444b"
      },
      "execution_count": 29,
      "outputs": [
        {
          "output_type": "stream",
          "name": "stdout",
          "text": [
            "tensor([[-0.0185],\n",
            "        [ 0.4003],\n",
            "        [-0.1103],\n",
            "        [ 0.0668],\n",
            "        [ 0.1180],\n",
            "        [-0.1827]], grad_fn=<MmBackward0>)\n"
          ]
        }
      ]
    },
    {
      "cell_type": "code",
      "source": [
        "torch.manual_seed(123)\n",
        "d, d_out_kq, d_out_v, num_heads = 3, 2, 1, 4\n",
        "mha = MultiHeadAttention(d, d_out_kq, d_out_v, num_heads)\n",
        "context_vecs = mha(embedded_sentence)\n",
        "print(context_vecs)\n",
        "print(\"context_vecs.shape:\", context_vecs.shape)"
      ],
      "metadata": {
        "colab": {
          "base_uri": "https://localhost:8080/"
        },
        "id": "I9u7OFfZcxZP",
        "outputId": "0e2f728f-0c79-49e8-b1db-3744a1ceb71c"
      },
      "execution_count": 33,
      "outputs": [
        {
          "output_type": "stream",
          "name": "stdout",
          "text": [
            "tensor([[-0.0185,  0.0170,  0.1999, -0.0860],\n",
            "        [ 0.4003,  1.7137,  1.3981,  1.0497],\n",
            "        [-0.1103, -0.1609,  0.0079, -0.2416],\n",
            "        [ 0.0668,  0.3534,  0.2322,  0.1008],\n",
            "        [ 0.1180,  0.6949,  0.3157,  0.2807],\n",
            "        [-0.1827, -0.2060, -0.2393, -0.3167]], grad_fn=<CatBackward0>)\n",
            "context_vecs.shape: torch.Size([6, 4])\n"
          ]
        }
      ]
    },
    {
      "cell_type": "markdown",
      "source": [
        "# Cross Attention"
      ],
      "metadata": {
        "id": "mq5N_2ylkTzS"
      }
    },
    {
      "cell_type": "code",
      "source": [
        "class crossAttention(nn.Module):\n",
        "  def __init__(self, d_in, d_out_kq, d_out_v):\n",
        "    super().__init__()\n",
        "    self.d_in = d_in\n",
        "    self.d_out_kq = d_out_kq\n",
        "    self.d_out_v = d_out_v\n",
        "    self.W_query = nn.Parameter(torch.rand(d_in, d_out_kq))\n",
        "    self.W_key = nn.Parameter(torch.rand(d_in, d_out_kq))\n",
        "    self.W_value = nn.Parameter(torch.rand(d_in, d_out_v))\n",
        "\n",
        "  def forward(self, x, y):\n",
        "      query = x @ self.W_query\n",
        "      key = y @ self.W_key\n",
        "      value = y @ self.W_value\n",
        "      attn_scores = query @ key.T /(self.d_out_kq**0.5)\n",
        "      attn_weights = F.softmax(attn_scores, dim=-1)\n",
        "      context_vector = attn_weights @ value\n",
        "      return context_vector"
      ],
      "metadata": {
        "id": "7bBh0Ornc0hH"
      },
      "execution_count": 37,
      "outputs": []
    },
    {
      "cell_type": "code",
      "source": [
        "torch.manual_seed(123)\n",
        "d_in, d_out_kq, d_out_v = 3, 2, 4\n",
        "ca = crossAttention(d_in, d_out_kq, d_out_v)\n",
        "first_input = embedded_sentence\n",
        "second_input = torch.rand(8, d_in)\n",
        "print(\"First input shape:\", first_input.shape)\n",
        "print(\"Second input shape:\", second_input.shape)"
      ],
      "metadata": {
        "colab": {
          "base_uri": "https://localhost:8080/"
        },
        "id": "jtXp-7k1mNfz",
        "outputId": "96a977d9-659c-475f-8538-f2eee7874a7c"
      },
      "execution_count": 38,
      "outputs": [
        {
          "output_type": "stream",
          "name": "stdout",
          "text": [
            "First input shape: torch.Size([6, 3])\n",
            "Second input shape: torch.Size([8, 3])\n"
          ]
        }
      ]
    },
    {
      "cell_type": "code",
      "source": [
        "context_vectors = ca(first_input, second_input)\n",
        "print(context_vectors)\n",
        "print(\"Output shape:\", context_vectors.shape)"
      ],
      "metadata": {
        "colab": {
          "base_uri": "https://localhost:8080/"
        },
        "id": "YkijRWLCmmvk",
        "outputId": "64ae6370-39f4-480a-a628-ea382fd57975"
      },
      "execution_count": 39,
      "outputs": [
        {
          "output_type": "stream",
          "name": "stdout",
          "text": [
            "tensor([[0.4231, 0.8665, 0.6503, 1.0042],\n",
            "        [0.4874, 0.9718, 0.7359, 1.1353],\n",
            "        [0.4054, 0.8359, 0.6258, 0.9667],\n",
            "        [0.4357, 0.8886, 0.6678, 1.0311],\n",
            "        [0.4429, 0.9006, 0.6775, 1.0460],\n",
            "        [0.3860, 0.8021, 0.5985, 0.9250]], grad_fn=<MmBackward0>)\n",
            "Output shape: torch.Size([6, 4])\n"
          ]
        }
      ]
    },
    {
      "cell_type": "code",
      "source": [],
      "metadata": {
        "id": "ELwSpFDDmpCd"
      },
      "execution_count": null,
      "outputs": []
    }
  ]
}